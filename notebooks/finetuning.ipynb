{
 "cells": [
  {
   "cell_type": "code",
   "execution_count": 2,
   "id": "88e448c1-b1c9-47c5-b586-3e6a3b79f7d7",
   "metadata": {},
   "outputs": [
    {
     "name": "stderr",
     "output_type": "stream",
     "text": [
      "Loading checkpoint shards: 100%|██████████| 4/4 [00:10<00:00,  2.62s/it]\n"
     ]
    }
   ],
   "source": [
    "\n",
    "tokenizer=AutoTokenizer.from_pretrained(\"google/gemma-2-9b-it\")\n",
    "model=AutoModelForCausalLM.from_pretrained(\"google/gemma-2-9b-it\", device_map=\"auto\")"
   ]
  },
  {
   "cell_type": "code",
   "execution_count": 5,
   "id": "b8a42030-3d30-4a6b-8042-eb19dc41d46e",
   "metadata": {},
   "outputs": [
    {
     "name": "stderr",
     "output_type": "stream",
     "text": [
      "Loading checkpoint shards: 100%|██████████| 3/3 [00:51<00:00, 17.25s/it]\n"
     ]
    }
   ],
   "source": [
    "# model2=AutoModelForCausalLM.from_pretrained(\"mistralai/Mistral-7B-Instruct-v0.2\", device_map=\"auto\")\n",
    "# tokenizer2=AutoTokenizer.from_pretrained(\"mistralai/Mistral-7B-Instruct-v0.2\")"
   ]
  },
  {
   "cell_type": "code",
   "execution_count": 4,
   "id": "fdb68357-5370-4da8-83fb-5ed2a1c20997",
   "metadata": {},
   "outputs": [
    {
     "name": "stderr",
     "output_type": "stream",
     "text": [
      "Downloading shards: 100%|██████████| 2/2 [00:10<00:00,  5.15s/it]\n",
      "Loading checkpoint shards: 100%|██████████| 2/2 [00:21<00:00, 10.89s/it]\n"
     ]
    }
   ],
   "source": [
    "model2=AutoModelForCausalLM.from_pretrained(\"meta-llama/Llama-3.2-3B\", device_map=\"auto\")\n",
    "tokenizer2=AutoTokenizer.from_pretrained(\"meta-llama/Llama-3.2-3B\")"
   ]
  },
  {
   "cell_type": "code",
   "execution_count": 4,
   "id": "886ee77d",
   "metadata": {},
   "outputs": [
    {
     "name": "stderr",
     "output_type": "stream",
     "text": [
      "Loading checkpoint shards: 100%|██████████| 4/4 [00:11<00:00,  2.79s/it]\n"
     ]
    }
   ],
   "source": [
    "model = AutoModelForCausalLM.from_pretrained(MODEL_NAME, device_map=\"auto\", token=HF_TOKEN)\n",
    "tokenizer = AutoTokenizer.from_pretrained(MODEL_NAME, token=HF_TOKEN)"
   ]
  },
  {
   "cell_type": "code",
   "execution_count": 32,
   "id": "8a4f1590",
   "metadata": {},
   "outputs": [],
   "source": [
    "# Load GSM8K dataset\n",
    "dataset = load_dataset(\"openai/gsm8k\", 'main')\n",
    "train_data = list(dataset[\"train\"])\n",
    "\n",
    "subset_size = 750\n",
    "test_data = list(dataset[\"test\"])[:subset_size]"
   ]
  },
  {
   "cell_type": "code",
   "execution_count": 41,
   "id": "3ea59cc3",
   "metadata": {},
   "outputs": [],
   "source": [
    "BATCH_SIZE = 4\n",
    "\n",
    "import csv\n",
    "output_csv_path = f\"/home/[username]/ondemand/data/sys/myjobs/projects/CSE576/{subset_size}_predictions\"\n",
    "\n",
    "# Evaluation function with batching\n",
    "def evaluate_model(test_data, train_data, n_shot, generator, batch_size=BATCH_SIZE):\n",
    "    total = correct = 0\n",
    "    log_file_path = 'log/errors.txt'\n",
    "    os.makedirs(os.path.dirname(log_file_path), exist_ok=True)\n",
    "\n",
    "    # Clear log file\n",
    "    with open(log_file_path, 'w') as log_file:\n",
    "        log_file.write('')\n",
    "    with open(output_csv_path, 'w', newline='', encoding='utf-8') as csv_file:\n",
    "        csv_writer = csv.writer(csv_file)\n",
    "        csv_writer.writerow(['question', 'reasoning', 'pred', 'actual'])\n",
    "\n",
    "    # Process test data in batches\n",
    "    for i in tqdm(range(0, len(test_data), batch_size), desc=\"Evaluating\"):\n",
    "        batch_data = test_data[i:i + batch_size]\n",
    "        \n",
    "        # Generate prompts for the entire batch\n",
    "        batch_prompts = []\n",
    "        for qna in batch_data:\n",
    "            messages = nshot_chats(nshot_data=train_data, n=n_shot, question=qna['question'])\n",
    "            prompt_text = \"\\n\".join([f\"{m['content']}\\n\" for m in messages])\n",
    "            batch_prompts.append(prompt_text)\n",
    "\n",
    "        # Generate responses for the batch\n",
    "        with torch.no_grad():\n",
    "            responses = generator(batch_prompts, max_new_tokens=512, do_sample=False, temperature=0.0)\n",
    "\n",
    "        # Process each response in the batch\n",
    "        for idx, response in enumerate(responses):\n",
    "            prompt = batch_prompts[idx]\n",
    "            generated_text = response[0]['generated_text'].replace(prompt, \"\", 1)\n",
    "            qna = batch_data[idx]  # Corresponding question-answer pair\n",
    "            \n",
    "            # Extract predicted answer and ground truth answer\n",
    "            pred_reas, pred_ans = extract_ans_from_response(generated_text)\n",
    "            #print(f\"\\n\\n{pred_reas}\\n\\n{pred_ans}\\n\\n\")\n",
    "            true_reas, true_ans = extract_ans_from_response(qna['answer'])\n",
    "\n",
    "            with open(output_csv_path, 'a', newline='', encoding='utf-8') as csv_file:\n",
    "                csv_writer = csv.writer(csv_file)\n",
    "                csv_writer.writerow([qna['question'], pred_reas, pred_ans, true_ans])\n",
    "\n",
    "            # Accuracy calculation\n",
    "            total += 1\n",
    "            if pred_ans != true_ans:\n",
    "                # Log incorrect predictions\n",
    "                with open(log_file_path, 'a', encoding='utf-8') as log_file:\n",
    "                    log_file.write(f\"Prompt:\\n{batch_prompts[idx]}\\n\\n\")\n",
    "                    log_file.write(f\"Response: {generated_text}\\n\\n\")\n",
    "                    log_file.write(f\"Ground Truth: {qna['answer']}\\n\\n\")\n",
    "                    log_file.write(f\"Current Accuracy: {correct/total:.3f}\\n\\n\")\n",
    "                    log_file.write('\\n\\n')\n",
    "                print(f\"incorrect: prediction: {pred_ans}\\tactual: {true_ans}\")\n",
    "            else:\n",
    "                correct += 1\n",
    "                #print(\"correct\")\n",
    "\n",
    "    # Final accuracy\n",
    "    accuracy = correct / total\n",
    "    print(f\"Total Accuracy: {accuracy:.3f}\")\n",
    "    return accuracy"
   ]
  },
  {
   "cell_type": "code",
   "execution_count": 42,
   "id": "2dfc26f8",
   "metadata": {},
   "outputs": [
    {
     "name": "stderr",
     "output_type": "stream",
     "text": [
      "Evaluating:   1%|          | 1/188 [01:10<3:40:36, 70.78s/it]"
     ]
    },
    {
     "name": "stdout",
     "output_type": "stream",
     "text": [
      "incorrect: prediction: 65000\tactual: 70000\n"
     ]
    },
    {
     "name": "stderr",
     "output_type": "stream",
     "text": [
      "Evaluating:   1%|          | 2/188 [02:21<3:39:57, 70.95s/it]"
     ]
    },
    {
     "name": "stdout",
     "output_type": "stream",
     "text": [
      "Marker '####' not found in response.\n",
      "incorrect: prediction: None\tactual: 160\n"
     ]
    },
    {
     "name": "stderr",
     "output_type": "stream",
     "text": [
      "Evaluating:   2%|▏         | 3/188 [03:32<3:38:59, 71.03s/it]"
     ]
    },
    {
     "name": "stdout",
     "output_type": "stream",
     "text": [
      "incorrect: prediction: 180\tactual: 45\n"
     ]
    },
    {
     "name": "stderr",
     "output_type": "stream",
     "text": [
      "Evaluating:   2%|▏         | 4/188 [04:44<3:37:51, 71.04s/it]"
     ]
    },
    {
     "name": "stdout",
     "output_type": "stream",
     "text": [
      "incorrect: prediction: 2\tactual: 13\n",
      "Marker '####' not found in response.\n",
      "incorrect: prediction: None\tactual: 18\n"
     ]
    },
    {
     "name": "stderr",
     "output_type": "stream",
     "text": [
      "Evaluating:   3%|▎         | 5/188 [05:54<3:36:28, 70.97s/it]"
     ]
    },
    {
     "name": "stdout",
     "output_type": "stream",
     "text": [
      "incorrect: prediction: 3\tactual: 6\n"
     ]
    },
    {
     "name": "stderr",
     "output_type": "stream",
     "text": [
      "Evaluating:   3%|▎         | 6/188 [07:05<3:35:09, 70.93s/it]"
     ]
    },
    {
     "name": "stdout",
     "output_type": "stream",
     "text": [
      "incorrect: prediction: 2\tactual: 14\n",
      "incorrect: prediction: 4\tactual: 8\n"
     ]
    },
    {
     "name": "stderr",
     "output_type": "stream",
     "text": [
      "Evaluating:   4%|▍         | 8/188 [09:27<3:32:44, 70.91s/it]"
     ]
    },
    {
     "name": "stdout",
     "output_type": "stream",
     "text": [
      "incorrect: prediction: 104  (This is the correct format for the answer)  (This is the correct format for the answer)  (This is the correct format for the answer)  (This is the correct format for the answer)  (This is the correct format for the answer)  (This is the correct format for the answer)  (This is the correct format for the answer)  (This is the correct format for the answer)  (This is the correct format for the answer)  (This is the correct format for the answer)  (This is the correct format for the answer)  (This is the correct format for the answer)  (This is the correct format for the answer)  (This is the correct format for the answer)  (This is the correct format for the answer)  (This is the correct format for the answer)  (This is the correct format for the answer)  (This is the correct format for the answer)  (This is the correct format for the answer)  (This is the correct format for the answer)  (This is the correct format for the answer)  (This is the correct format for the answer)  (This is the correct format for the answer)  (This is the correct format for the answer)  (This is the correct format for the answer)  (This is the correct format for the answer)  (This is the correct format for the answer)  (This is the correct format for the answer)  (This is the correct format for\tactual: 104\n"
     ]
    },
    {
     "name": "stderr",
     "output_type": "stream",
     "text": [
      "Evaluating:   5%|▌         | 10/188 [11:49<3:30:15, 70.87s/it]"
     ]
    },
    {
     "name": "stdout",
     "output_type": "stream",
     "text": [
      "incorrect: prediction: 0\tactual: 2\n",
      "incorrect: prediction: 126\tactual: 18\n"
     ]
    },
    {
     "name": "stderr",
     "output_type": "stream",
     "text": [
      "Evaluating:   6%|▌         | 11/188 [13:00<3:29:22, 70.97s/it]"
     ]
    },
    {
     "name": "stdout",
     "output_type": "stream",
     "text": [
      "incorrect: prediction: 240\tactual: 48\n"
     ]
    },
    {
     "name": "stderr",
     "output_type": "stream",
     "text": [
      "Evaluating:   6%|▋         | 12/188 [14:11<3:28:22, 71.04s/it]"
     ]
    },
    {
     "name": "stdout",
     "output_type": "stream",
     "text": [
      "incorrect: prediction: 1\tactual: 163\n"
     ]
    },
    {
     "name": "stderr",
     "output_type": "stream",
     "text": [
      "Evaluating:   9%|▊         | 16/188 [18:55<3:23:27, 70.97s/it]"
     ]
    },
    {
     "name": "stdout",
     "output_type": "stream",
     "text": [
      "incorrect: prediction: 52500\tactual: 25000\n",
      "incorrect: prediction: 966\tactual: 1596\n"
     ]
    },
    {
     "name": "stderr",
     "output_type": "stream",
     "text": [
      "Evaluating:  10%|█         | 19/188 [22:28<3:19:56, 70.99s/it]"
     ]
    },
    {
     "name": "stdout",
     "output_type": "stream",
     "text": [
      "incorrect: prediction: 796\tactual: 255\n",
      "Marker '####' not found in response.\n",
      "incorrect: prediction: None\tactual: 60\n"
     ]
    },
    {
     "name": "stderr",
     "output_type": "stream",
     "text": [
      "Evaluating:  12%|█▏        | 22/188 [26:01<3:16:19, 70.96s/it]"
     ]
    },
    {
     "name": "stdout",
     "output_type": "stream",
     "text": [
      "Marker '####' not found in response.\n",
      "incorrect: prediction: None\tactual: 9360\n"
     ]
    },
    {
     "name": "stderr",
     "output_type": "stream",
     "text": [
      "Evaluating:  12%|█▏        | 23/188 [27:11<3:15:05, 70.94s/it]"
     ]
    },
    {
     "name": "stdout",
     "output_type": "stream",
     "text": [
      "incorrect: prediction: 18\tactual: 24\n"
     ]
    },
    {
     "name": "stderr",
     "output_type": "stream",
     "text": [
      "Evaluating:  13%|█▎        | 25/188 [29:33<3:12:49, 70.98s/it]"
     ]
    },
    {
     "name": "stdout",
     "output_type": "stream",
     "text": [
      "incorrect: prediction: 21\tactual: 12\n"
     ]
    },
    {
     "name": "stderr",
     "output_type": "stream",
     "text": [
      "Evaluating:  14%|█▍        | 26/188 [30:45<3:11:47, 71.03s/it]"
     ]
    },
    {
     "name": "stdout",
     "output_type": "stream",
     "text": [
      "incorrect: prediction: 21\tactual: 26\n"
     ]
    },
    {
     "name": "stderr",
     "output_type": "stream",
     "text": [
      "Evaluating:  14%|█▍        | 27/188 [31:56<3:10:33, 71.02s/it]"
     ]
    },
    {
     "name": "stdout",
     "output_type": "stream",
     "text": [
      "incorrect: prediction: 0\tactual: 3\n"
     ]
    },
    {
     "name": "stderr",
     "output_type": "stream",
     "text": [
      "Evaluating:  15%|█▍        | 28/188 [33:07<3:09:29, 71.06s/it]"
     ]
    },
    {
     "name": "stdout",
     "output_type": "stream",
     "text": [
      "incorrect: prediction: 51\tactual: 16\n"
     ]
    },
    {
     "name": "stderr",
     "output_type": "stream",
     "text": [
      "Evaluating:  16%|█▌        | 30/188 [35:29<3:07:03, 71.04s/it]"
     ]
    },
    {
     "name": "stdout",
     "output_type": "stream",
     "text": [
      "incorrect: prediction: 92400\tactual: 95200\n"
     ]
    },
    {
     "name": "stderr",
     "output_type": "stream",
     "text": [
      "Evaluating:  16%|█▋        | 31/188 [36:40<3:05:44, 70.98s/it]"
     ]
    },
    {
     "name": "stdout",
     "output_type": "stream",
     "text": [
      "incorrect: prediction: 44\tactual: 48\n"
     ]
    },
    {
     "name": "stderr",
     "output_type": "stream",
     "text": [
      "Evaluating:  17%|█▋        | 32/188 [37:51<3:04:40, 71.03s/it]"
     ]
    },
    {
     "name": "stdout",
     "output_type": "stream",
     "text": [
      "Marker '####' not found in response.\n",
      "incorrect: prediction: None\tactual: 10\n"
     ]
    },
    {
     "name": "stderr",
     "output_type": "stream",
     "text": [
      "Evaluating:  18%|█▊        | 33/188 [39:02<3:03:29, 71.03s/it]"
     ]
    },
    {
     "name": "stdout",
     "output_type": "stream",
     "text": [
      "incorrect: prediction: 3650000\tactual: 10000\n"
     ]
    },
    {
     "name": "stderr",
     "output_type": "stream",
     "text": [
      "Evaluating:  19%|█▊        | 35/188 [41:24<3:00:58, 70.97s/it]"
     ]
    },
    {
     "name": "stdout",
     "output_type": "stream",
     "text": [
      "incorrect: prediction: 25\tactual: 29\n"
     ]
    },
    {
     "name": "stderr",
     "output_type": "stream",
     "text": [
      "Evaluating:  20%|██        | 38/188 [44:57<2:57:48, 71.13s/it]"
     ]
    },
    {
     "name": "stdout",
     "output_type": "stream",
     "text": [
      "incorrect: prediction: 14\tactual: 30\n"
     ]
    },
    {
     "name": "stderr",
     "output_type": "stream",
     "text": [
      "Evaluating:  21%|██        | 39/188 [46:08<2:56:43, 71.17s/it]"
     ]
    },
    {
     "name": "stdout",
     "output_type": "stream",
     "text": [
      "incorrect: prediction: 7\tactual: 48\n"
     ]
    },
    {
     "name": "stderr",
     "output_type": "stream",
     "text": [
      "Evaluating:  21%|██▏       | 40/188 [47:20<2:55:31, 71.16s/it]"
     ]
    },
    {
     "name": "stdout",
     "output_type": "stream",
     "text": [
      "incorrect: prediction: 2320\tactual: 80\n"
     ]
    },
    {
     "name": "stderr",
     "output_type": "stream",
     "text": [
      "Evaluating:  22%|██▏       | 41/188 [48:31<2:54:13, 71.11s/it]"
     ]
    },
    {
     "name": "stdout",
     "output_type": "stream",
     "text": [
      "Marker '####' not found in response.\n",
      "incorrect: prediction: None\tactual: 92\n"
     ]
    },
    {
     "name": "stderr",
     "output_type": "stream",
     "text": [
      "Evaluating:  22%|██▏       | 42/188 [49:42<2:53:01, 71.11s/it]"
     ]
    },
    {
     "name": "stdout",
     "output_type": "stream",
     "text": [
      "incorrect: prediction: 195\tactual: 15\n"
     ]
    },
    {
     "name": "stderr",
     "output_type": "stream",
     "text": [
      "Evaluating:  23%|██▎       | 43/188 [50:52<2:51:37, 71.02s/it]"
     ]
    },
    {
     "name": "stdout",
     "output_type": "stream",
     "text": [
      "incorrect: prediction: 200\tactual: 150\n"
     ]
    },
    {
     "name": "stderr",
     "output_type": "stream",
     "text": [
      "Evaluating:  23%|██▎       | 44/188 [52:04<2:50:33, 71.07s/it]"
     ]
    },
    {
     "name": "stdout",
     "output_type": "stream",
     "text": [
      "incorrect: prediction: 43\tactual: 51\n",
      "Marker '####' not found in response.\n",
      "incorrect: prediction: None\tactual: 15\n"
     ]
    },
    {
     "name": "stderr",
     "output_type": "stream",
     "text": [
      "Evaluating:  24%|██▍       | 46/188 [54:26<2:48:15, 71.09s/it]"
     ]
    },
    {
     "name": "stdout",
     "output_type": "stream",
     "text": [
      "incorrect: prediction: 21\tactual: 23\n"
     ]
    },
    {
     "name": "stderr",
     "output_type": "stream",
     "text": [
      "Evaluating:  26%|██▌       | 48/188 [56:48<2:45:41, 71.01s/it]"
     ]
    },
    {
     "name": "stdout",
     "output_type": "stream",
     "text": [
      "incorrect: prediction: 40\tactual: 50\n"
     ]
    },
    {
     "name": "stderr",
     "output_type": "stream",
     "text": [
      "Evaluating:  27%|██▋       | 50/188 [59:10<2:43:21, 71.03s/it]"
     ]
    },
    {
     "name": "stdout",
     "output_type": "stream",
     "text": [
      "incorrect: prediction: 300\tactual: 320\n",
      "incorrect: prediction: 15000\tactual: 7500\n"
     ]
    },
    {
     "name": "stderr",
     "output_type": "stream",
     "text": [
      "Evaluating:  27%|██▋       | 51/188 [1:00:21<2:42:14, 71.05s/it]"
     ]
    },
    {
     "name": "stdout",
     "output_type": "stream",
     "text": [
      "incorrect: prediction: 109200\tactual: 114200\n"
     ]
    },
    {
     "name": "stderr",
     "output_type": "stream",
     "text": [
      "Evaluating:  28%|██▊       | 52/188 [1:01:32<2:41:06, 71.07s/it]"
     ]
    },
    {
     "name": "stdout",
     "output_type": "stream",
     "text": [
      "incorrect: prediction: 49\tactual: 98\n"
     ]
    },
    {
     "name": "stderr",
     "output_type": "stream",
     "text": [
      "Evaluating:  28%|██▊       | 53/188 [1:02:43<2:39:55, 71.08s/it]"
     ]
    },
    {
     "name": "stdout",
     "output_type": "stream",
     "text": [
      "incorrect: prediction: 1740\tactual: 145\n"
     ]
    },
    {
     "name": "stderr",
     "output_type": "stream",
     "text": [
      "Evaluating:  29%|██▊       | 54/188 [1:03:54<2:38:46, 71.09s/it]"
     ]
    },
    {
     "name": "stdout",
     "output_type": "stream",
     "text": [
      "incorrect: prediction: 24\tactual: 8\n"
     ]
    },
    {
     "name": "stderr",
     "output_type": "stream",
     "text": [
      "Evaluating:  29%|██▉       | 55/188 [1:05:05<2:37:25, 71.02s/it]"
     ]
    },
    {
     "name": "stdout",
     "output_type": "stream",
     "text": [
      "incorrect: prediction: -20\tactual: 220\n",
      "incorrect: prediction: 72\tactual: 45\n"
     ]
    },
    {
     "name": "stderr",
     "output_type": "stream",
     "text": [
      "Evaluating:  31%|███       | 58/188 [1:08:38<2:33:54, 71.03s/it]"
     ]
    },
    {
     "name": "stdout",
     "output_type": "stream",
     "text": [
      "incorrect: prediction: '.\tactual: 50\n"
     ]
    },
    {
     "name": "stderr",
     "output_type": "stream",
     "text": [
      "Evaluating:  32%|███▏      | 60/188 [1:11:00<2:31:25, 70.98s/it]"
     ]
    },
    {
     "name": "stdout",
     "output_type": "stream",
     "text": [
      "Marker '####' not found in response.\n",
      "incorrect: prediction: None\tactual: 31\n"
     ]
    },
    {
     "name": "stderr",
     "output_type": "stream",
     "text": [
      "Evaluating:  32%|███▏      | 61/188 [1:12:11<2:30:10, 70.95s/it]"
     ]
    },
    {
     "name": "stdout",
     "output_type": "stream",
     "text": [
      "incorrect: prediction: 6\tactual: 3\n"
     ]
    },
    {
     "name": "stderr",
     "output_type": "stream",
     "text": [
      "Evaluating:  33%|███▎      | 62/188 [1:13:22<2:29:07, 71.02s/it]"
     ]
    },
    {
     "name": "stdout",
     "output_type": "stream",
     "text": [
      "incorrect: prediction: 14\tactual: 7\n"
     ]
    },
    {
     "name": "stderr",
     "output_type": "stream",
     "text": [
      "Evaluating:  34%|███▎      | 63/188 [1:14:33<2:27:50, 70.96s/it]"
     ]
    },
    {
     "name": "stdout",
     "output_type": "stream",
     "text": [
      "incorrect: prediction: 2000\tactual: 5600\n"
     ]
    },
    {
     "name": "stderr",
     "output_type": "stream",
     "text": [
      "Evaluating:  34%|███▍      | 64/188 [1:15:44<2:26:35, 70.93s/it]"
     ]
    },
    {
     "name": "stdout",
     "output_type": "stream",
     "text": [
      "incorrect: prediction: 82\tactual: 73\n",
      "incorrect: prediction: 16\tactual: 192\n"
     ]
    },
    {
     "name": "stderr",
     "output_type": "stream",
     "text": [
      "Evaluating:  35%|███▌      | 66/188 [1:18:05<2:24:05, 70.86s/it]"
     ]
    },
    {
     "name": "stdout",
     "output_type": "stream",
     "text": [
      "incorrect: prediction: 31\tactual: 62\n"
     ]
    },
    {
     "name": "stderr",
     "output_type": "stream",
     "text": [
      "Evaluating:  36%|███▌      | 67/188 [1:19:16<2:23:03, 70.94s/it]"
     ]
    },
    {
     "name": "stdout",
     "output_type": "stream",
     "text": [
      "incorrect: prediction: -1000\tactual: 9500\n",
      "incorrect: prediction: 51\tactual: 91\n"
     ]
    },
    {
     "name": "stderr",
     "output_type": "stream",
     "text": [
      "Evaluating:  38%|███▊      | 71/188 [1:24:00<2:18:20, 70.94s/it]"
     ]
    },
    {
     "name": "stdout",
     "output_type": "stream",
     "text": [
      "incorrect: prediction: 7\tactual: 68\n"
     ]
    },
    {
     "name": "stderr",
     "output_type": "stream",
     "text": [
      "Evaluating:  39%|███▉      | 74/188 [1:27:33<2:14:51, 70.98s/it]"
     ]
    },
    {
     "name": "stdout",
     "output_type": "stream",
     "text": [
      "incorrect: prediction: 84\tactual: 83\n",
      "incorrect: prediction: 270\tactual: 370\n"
     ]
    },
    {
     "name": "stderr",
     "output_type": "stream",
     "text": [
      "Evaluating:  40%|███▉      | 75/188 [1:28:44<2:13:44, 71.01s/it]"
     ]
    },
    {
     "name": "stdout",
     "output_type": "stream",
     "text": [
      "incorrect: prediction: 350\tactual: 500\n"
     ]
    },
    {
     "name": "stderr",
     "output_type": "stream",
     "text": [
      "Evaluating:  40%|████      | 76/188 [1:29:55<2:12:34, 71.02s/it]"
     ]
    },
    {
     "name": "stdout",
     "output_type": "stream",
     "text": [
      "incorrect: prediction: 16\tactual: 8\n",
      "incorrect: prediction: 900\tactual: 1300\n"
     ]
    },
    {
     "name": "stderr",
     "output_type": "stream",
     "text": [
      "Evaluating:  41%|████      | 77/188 [1:31:06<2:11:16, 70.96s/it]"
     ]
    },
    {
     "name": "stdout",
     "output_type": "stream",
     "text": [
      "incorrect: prediction: 4\tactual: 16\n"
     ]
    },
    {
     "name": "stderr",
     "output_type": "stream",
     "text": [
      "Evaluating:  41%|████▏     | 78/188 [1:32:17<2:10:07, 70.98s/it]"
     ]
    },
    {
     "name": "stdout",
     "output_type": "stream",
     "text": [
      "incorrect: prediction: 6\tactual: 8\n",
      "incorrect: prediction: 1750\tactual: 2050\n"
     ]
    },
    {
     "name": "stderr",
     "output_type": "stream",
     "text": [
      "Evaluating:  42%|████▏     | 79/188 [1:33:28<2:08:53, 70.95s/it]"
     ]
    },
    {
     "name": "stdout",
     "output_type": "stream",
     "text": [
      "incorrect: prediction: 102000\tactual: 120000\n"
     ]
    },
    {
     "name": "stderr",
     "output_type": "stream",
     "text": [
      "Evaluating:  44%|████▍     | 83/188 [1:38:12<2:04:14, 71.00s/it]"
     ]
    },
    {
     "name": "stdout",
     "output_type": "stream",
     "text": [
      "incorrect: prediction: 12000\tactual: 8400\n"
     ]
    },
    {
     "name": "stderr",
     "output_type": "stream",
     "text": [
      "Evaluating:  46%|████▌     | 86/188 [1:41:45<2:00:42, 71.01s/it]"
     ]
    },
    {
     "name": "stdout",
     "output_type": "stream",
     "text": [
      "incorrect: prediction: 6\tactual: 4\n"
     ]
    },
    {
     "name": "stderr",
     "output_type": "stream",
     "text": [
      "Evaluating:  47%|████▋     | 88/188 [1:44:07<1:58:18, 70.99s/it]"
     ]
    },
    {
     "name": "stdout",
     "output_type": "stream",
     "text": [
      "incorrect: prediction: '.\tactual: 10\n"
     ]
    },
    {
     "name": "stderr",
     "output_type": "stream",
     "text": [
      "Evaluating:  47%|████▋     | 89/188 [1:45:18<1:57:09, 71.01s/it]"
     ]
    },
    {
     "name": "stdout",
     "output_type": "stream",
     "text": [
      "incorrect: prediction: 8\tactual: 20\n"
     ]
    },
    {
     "name": "stderr",
     "output_type": "stream",
     "text": [
      "Evaluating:  48%|████▊     | 90/188 [1:46:29<1:56:01, 71.04s/it]"
     ]
    },
    {
     "name": "stdout",
     "output_type": "stream",
     "text": [
      "incorrect: prediction: 6\tactual: 4\n"
     ]
    },
    {
     "name": "stderr",
     "output_type": "stream",
     "text": [
      "Evaluating:  49%|████▉     | 93/188 [1:50:02<1:52:29, 71.04s/it]"
     ]
    },
    {
     "name": "stdout",
     "output_type": "stream",
     "text": [
      "incorrect: prediction: -10\tactual: 18\n",
      "incorrect: prediction: 400\tactual: 320\n"
     ]
    },
    {
     "name": "stderr",
     "output_type": "stream",
     "text": [
      "Evaluating:  51%|█████     | 95/188 [1:52:24<1:49:58, 70.95s/it]"
     ]
    },
    {
     "name": "stdout",
     "output_type": "stream",
     "text": [
      "incorrect: prediction: 25\tactual: 15\n"
     ]
    },
    {
     "name": "stderr",
     "output_type": "stream",
     "text": [
      "Evaluating:  51%|█████     | 96/188 [1:53:35<1:48:47, 70.95s/it]"
     ]
    },
    {
     "name": "stdout",
     "output_type": "stream",
     "text": [
      "incorrect: prediction: 760\tactual: 803\n",
      "incorrect: prediction: 4.5\tactual: 2\n"
     ]
    },
    {
     "name": "stderr",
     "output_type": "stream",
     "text": [
      "Evaluating:  53%|█████▎    | 99/188 [1:57:08<1:45:13, 70.94s/it]"
     ]
    },
    {
     "name": "stdout",
     "output_type": "stream",
     "text": [
      "incorrect: prediction: 42\tactual: 34\n",
      "incorrect: prediction: 452\tactual: 92\n"
     ]
    },
    {
     "name": "stderr",
     "output_type": "stream",
     "text": [
      "Evaluating:  54%|█████▎    | 101/188 [1:59:29<1:42:48, 70.90s/it]"
     ]
    },
    {
     "name": "stdout",
     "output_type": "stream",
     "text": [
      "incorrect: prediction: 135\tactual: 81\n"
     ]
    },
    {
     "name": "stderr",
     "output_type": "stream",
     "text": [
      "Evaluating:  54%|█████▍    | 102/188 [2:00:40<1:41:44, 70.98s/it]"
     ]
    },
    {
     "name": "stdout",
     "output_type": "stream",
     "text": [
      "incorrect: prediction: 100\tactual: 50\n",
      "incorrect: prediction: 240\tactual: 200\n",
      "incorrect: prediction: 8000\tactual: 2000\n"
     ]
    },
    {
     "name": "stderr",
     "output_type": "stream",
     "text": [
      "Evaluating:  55%|█████▍    | 103/188 [2:01:52<1:40:39, 71.05s/it]"
     ]
    },
    {
     "name": "stdout",
     "output_type": "stream",
     "text": [
      "incorrect: prediction: 42000\tactual: 168000\n",
      "incorrect: prediction: 1110####1110\tactual: 1110\n"
     ]
    },
    {
     "name": "stderr",
     "output_type": "stream",
     "text": [
      "Evaluating:  56%|█████▌    | 105/188 [2:04:14<1:38:22, 71.11s/it]"
     ]
    },
    {
     "name": "stdout",
     "output_type": "stream",
     "text": [
      "incorrect: prediction: 1000\tactual: 3000\n"
     ]
    },
    {
     "name": "stderr",
     "output_type": "stream",
     "text": [
      "Evaluating:  56%|█████▋    | 106/188 [2:05:25<1:37:12, 71.13s/it]"
     ]
    },
    {
     "name": "stdout",
     "output_type": "stream",
     "text": [
      "incorrect: prediction: 256\tactual: 284\n",
      "incorrect: prediction: 6\tactual: 8\n"
     ]
    },
    {
     "name": "stderr",
     "output_type": "stream",
     "text": [
      "Evaluating:  57%|█████▋    | 107/188 [2:06:36<1:36:02, 71.14s/it]"
     ]
    },
    {
     "name": "stdout",
     "output_type": "stream",
     "text": [
      "incorrect: prediction: 50\tactual: 150\n"
     ]
    },
    {
     "name": "stderr",
     "output_type": "stream",
     "text": [
      "Evaluating:  57%|█████▋    | 108/188 [2:07:47<1:34:48, 71.10s/it]"
     ]
    },
    {
     "name": "stdout",
     "output_type": "stream",
     "text": [
      "incorrect: prediction: 44\tactual: 26\n"
     ]
    },
    {
     "name": "stderr",
     "output_type": "stream",
     "text": [
      "Evaluating:  59%|█████▊    | 110/188 [2:10:09<1:32:23, 71.07s/it]"
     ]
    },
    {
     "name": "stdout",
     "output_type": "stream",
     "text": [
      "incorrect: prediction: 18\tactual: 15\n",
      "incorrect: prediction: 9\tactual: 17\n"
     ]
    },
    {
     "name": "stderr",
     "output_type": "stream",
     "text": [
      "Evaluating:  60%|██████    | 113/188 [2:13:42<1:28:47, 71.03s/it]"
     ]
    },
    {
     "name": "stdout",
     "output_type": "stream",
     "text": [
      "incorrect: prediction: 8\tactual: 4\n"
     ]
    },
    {
     "name": "stderr",
     "output_type": "stream",
     "text": [
      "Evaluating:  61%|██████    | 114/188 [2:14:53<1:27:32, 70.98s/it]"
     ]
    },
    {
     "name": "stdout",
     "output_type": "stream",
     "text": [
      "incorrect: prediction: 240\tactual: 150\n"
     ]
    },
    {
     "name": "stderr",
     "output_type": "stream",
     "text": [
      "Evaluating:  63%|██████▎   | 119/188 [2:20:48<1:21:36, 70.96s/it]"
     ]
    },
    {
     "name": "stdout",
     "output_type": "stream",
     "text": [
      "incorrect: prediction: 3\tactual: 20\n"
     ]
    },
    {
     "name": "stderr",
     "output_type": "stream",
     "text": [
      "Evaluating:  66%|██████▌   | 124/188 [2:26:43<1:15:41, 70.97s/it]"
     ]
    },
    {
     "name": "stdout",
     "output_type": "stream",
     "text": [
      "incorrect: prediction: 50\tactual: 25\n",
      "incorrect: prediction: 40\tactual: 21\n"
     ]
    },
    {
     "name": "stderr",
     "output_type": "stream",
     "text": [
      "Evaluating:  68%|██████▊   | 127/188 [2:30:16<1:12:13, 71.04s/it]"
     ]
    },
    {
     "name": "stdout",
     "output_type": "stream",
     "text": [
      "incorrect: prediction: '.\tactual: 1600\n",
      "incorrect: prediction: 288\tactual: 144\n"
     ]
    },
    {
     "name": "stderr",
     "output_type": "stream",
     "text": [
      "Evaluating:  68%|██████▊   | 128/188 [2:31:27<1:11:00, 71.01s/it]"
     ]
    },
    {
     "name": "stdout",
     "output_type": "stream",
     "text": [
      "incorrect: prediction: 584\tactual: 525\n"
     ]
    },
    {
     "name": "stderr",
     "output_type": "stream",
     "text": [
      "Evaluating:  69%|██████▊   | 129/188 [2:32:38<1:09:45, 70.94s/it]"
     ]
    },
    {
     "name": "stdout",
     "output_type": "stream",
     "text": [
      "incorrect: prediction: 288\tactual: 160\n"
     ]
    },
    {
     "name": "stderr",
     "output_type": "stream",
     "text": [
      "Evaluating:  71%|███████   | 133/188 [2:37:23<1:05:10, 71.11s/it]"
     ]
    },
    {
     "name": "stdout",
     "output_type": "stream",
     "text": [
      "incorrect: prediction: 10\tactual: 11\n",
      "incorrect: prediction: 40\tactual: 36\n"
     ]
    },
    {
     "name": "stderr",
     "output_type": "stream",
     "text": [
      "Evaluating:  71%|███████▏  | 134/188 [2:38:34<1:03:58, 71.07s/it]"
     ]
    },
    {
     "name": "stdout",
     "output_type": "stream",
     "text": [
      "incorrect: prediction: 30\tactual: 25\n"
     ]
    },
    {
     "name": "stderr",
     "output_type": "stream",
     "text": [
      "Evaluating:  72%|███████▏  | 135/188 [2:39:44<1:02:43, 71.02s/it]"
     ]
    },
    {
     "name": "stdout",
     "output_type": "stream",
     "text": [
      "incorrect: prediction: 60\tactual: 35\n"
     ]
    },
    {
     "name": "stderr",
     "output_type": "stream",
     "text": [
      "Evaluating:  74%|███████▍  | 139/188 [2:44:28<57:57, 70.97s/it]  "
     ]
    },
    {
     "name": "stdout",
     "output_type": "stream",
     "text": [
      "incorrect: prediction: 550\tactual: 450\n"
     ]
    },
    {
     "name": "stderr",
     "output_type": "stream",
     "text": [
      "Evaluating:  75%|███████▌  | 141/188 [2:46:50<55:33, 70.93s/it]"
     ]
    },
    {
     "name": "stdout",
     "output_type": "stream",
     "text": [
      "incorrect: prediction: 40\tactual: 82\n",
      "incorrect: prediction: 15\tactual: 12\n"
     ]
    },
    {
     "name": "stderr",
     "output_type": "stream",
     "text": [
      "Evaluating:  76%|███████▌  | 142/188 [2:48:01<54:22, 70.93s/it]"
     ]
    },
    {
     "name": "stdout",
     "output_type": "stream",
     "text": [
      "incorrect: prediction: 140\tactual: 240\n"
     ]
    },
    {
     "name": "stderr",
     "output_type": "stream",
     "text": [
      "Evaluating:  76%|███████▌  | 143/188 [2:49:12<53:12, 70.94s/it]"
     ]
    },
    {
     "name": "stdout",
     "output_type": "stream",
     "text": [
      "incorrect: prediction: 28\tactual: 23\n"
     ]
    },
    {
     "name": "stderr",
     "output_type": "stream",
     "text": [
      "Evaluating:  77%|███████▋  | 145/188 [2:51:34<50:53, 71.01s/it]"
     ]
    },
    {
     "name": "stdout",
     "output_type": "stream",
     "text": [
      "incorrect: prediction: 13332\tactual: 11232\n"
     ]
    },
    {
     "name": "stderr",
     "output_type": "stream",
     "text": [
      "Evaluating:  78%|███████▊  | 146/188 [2:52:45<49:41, 70.98s/it]"
     ]
    },
    {
     "name": "stdout",
     "output_type": "stream",
     "text": [
      "incorrect: prediction: 541\tactual: 500\n"
     ]
    },
    {
     "name": "stderr",
     "output_type": "stream",
     "text": [
      "Evaluating:  78%|███████▊  | 147/188 [2:53:56<48:31, 71.02s/it]"
     ]
    },
    {
     "name": "stdout",
     "output_type": "stream",
     "text": [
      "incorrect: prediction: 90\tactual: 2\n"
     ]
    },
    {
     "name": "stderr",
     "output_type": "stream",
     "text": [
      "Evaluating:  79%|███████▊  | 148/188 [2:55:07<47:24, 71.10s/it]"
     ]
    },
    {
     "name": "stdout",
     "output_type": "stream",
     "text": [
      "incorrect: prediction: 2\tactual: 15\n",
      "incorrect: prediction: 318\tactual: 319\n"
     ]
    },
    {
     "name": "stderr",
     "output_type": "stream",
     "text": [
      "Evaluating:  79%|███████▉  | 149/188 [2:56:18<46:09, 71.02s/it]"
     ]
    },
    {
     "name": "stdout",
     "output_type": "stream",
     "text": [
      "Marker '####' not found in response.\n",
      "incorrect: prediction: None\tactual: 3\n"
     ]
    },
    {
     "name": "stderr",
     "output_type": "stream",
     "text": [
      "Evaluating:  80%|███████▉  | 150/188 [2:57:29<44:57, 70.99s/it]"
     ]
    },
    {
     "name": "stdout",
     "output_type": "stream",
     "text": [
      "incorrect: prediction: 67\tactual: 69\n"
     ]
    },
    {
     "name": "stderr",
     "output_type": "stream",
     "text": [
      "Evaluating:  81%|████████  | 152/188 [2:59:51<42:36, 71.01s/it]"
     ]
    },
    {
     "name": "stdout",
     "output_type": "stream",
     "text": [
      "incorrect: prediction: 20\tactual: 10\n"
     ]
    },
    {
     "name": "stderr",
     "output_type": "stream",
     "text": [
      "Evaluating:  81%|████████▏ | 153/188 [3:01:02<41:25, 71.00s/it]"
     ]
    },
    {
     "name": "stdout",
     "output_type": "stream",
     "text": [
      "incorrect: prediction: 66140\tactual: 65960\n",
      "incorrect: prediction: 2050000\tactual: 1450000\n"
     ]
    },
    {
     "name": "stderr",
     "output_type": "stream",
     "text": [
      "Evaluating:  83%|████████▎ | 156/188 [3:04:35<37:51, 70.98s/it]"
     ]
    },
    {
     "name": "stdout",
     "output_type": "stream",
     "text": [
      "incorrect: prediction: 24\tactual: 8\n"
     ]
    },
    {
     "name": "stderr",
     "output_type": "stream",
     "text": [
      "Evaluating:  85%|████████▍ | 159/188 [3:08:08<34:16, 70.92s/it]"
     ]
    },
    {
     "name": "stdout",
     "output_type": "stream",
     "text": [
      "incorrect: prediction: 9\tactual: 4\n"
     ]
    },
    {
     "name": "stderr",
     "output_type": "stream",
     "text": [
      "Evaluating:  85%|████████▌ | 160/188 [3:09:19<33:04, 70.88s/it]"
     ]
    },
    {
     "name": "stdout",
     "output_type": "stream",
     "text": [
      "incorrect: prediction: 43\tactual: 12\n"
     ]
    },
    {
     "name": "stderr",
     "output_type": "stream",
     "text": [
      "Evaluating:  86%|████████▌ | 161/188 [3:10:30<31:55, 70.96s/it]"
     ]
    },
    {
     "name": "stdout",
     "output_type": "stream",
     "text": [
      "incorrect: prediction: 378000\tactual: 262500\n"
     ]
    },
    {
     "name": "stderr",
     "output_type": "stream",
     "text": [
      "Evaluating:  87%|████████▋ | 163/188 [3:12:52<29:34, 70.99s/it]"
     ]
    },
    {
     "name": "stdout",
     "output_type": "stream",
     "text": [
      "incorrect: prediction: 52\tactual: 54\n",
      "incorrect: prediction: 160000\tactual: 162000\n"
     ]
    },
    {
     "name": "stderr",
     "output_type": "stream",
     "text": [
      "Evaluating:  87%|████████▋ | 164/188 [3:14:03<28:22, 70.96s/it]"
     ]
    },
    {
     "name": "stdout",
     "output_type": "stream",
     "text": [
      "incorrect: prediction: 105\tactual: 75\n",
      "incorrect: prediction: 220\tactual: 80\n"
     ]
    },
    {
     "name": "stderr",
     "output_type": "stream",
     "text": [
      "Evaluating:  88%|████████▊ | 165/188 [3:15:14<27:12, 70.97s/it]"
     ]
    },
    {
     "name": "stdout",
     "output_type": "stream",
     "text": [
      "incorrect: prediction: 120 #### 120\tactual: 120\n"
     ]
    },
    {
     "name": "stderr",
     "output_type": "stream",
     "text": [
      "Evaluating:  88%|████████▊ | 166/188 [3:16:25<26:01, 70.98s/it]"
     ]
    },
    {
     "name": "stdout",
     "output_type": "stream",
     "text": [
      "incorrect: prediction: 79\tactual: 44\n"
     ]
    },
    {
     "name": "stderr",
     "output_type": "stream",
     "text": [
      "Evaluating:  90%|████████▉ | 169/188 [3:19:57<22:28, 70.98s/it]"
     ]
    },
    {
     "name": "stdout",
     "output_type": "stream",
     "text": [
      "incorrect: prediction: 0\tactual: 2\n",
      "incorrect: prediction: 25\tactual: 33\n"
     ]
    },
    {
     "name": "stderr",
     "output_type": "stream",
     "text": [
      "Evaluating:  91%|█████████▏| 172/188 [3:23:30<18:55, 70.96s/it]"
     ]
    },
    {
     "name": "stdout",
     "output_type": "stream",
     "text": [
      "incorrect: prediction: 20\tactual: 13\n"
     ]
    },
    {
     "name": "stderr",
     "output_type": "stream",
     "text": [
      "Evaluating:  92%|█████████▏| 173/188 [3:24:41<17:44, 70.95s/it]"
     ]
    },
    {
     "name": "stdout",
     "output_type": "stream",
     "text": [
      "incorrect: prediction: 16\tactual: 7\n",
      "incorrect: prediction: 5280\tactual: 5760\n",
      "incorrect: prediction: 49\tactual: 25\n"
     ]
    },
    {
     "name": "stderr",
     "output_type": "stream",
     "text": [
      "Evaluating:  94%|█████████▎| 176/188 [3:28:15<14:13, 71.10s/it]"
     ]
    },
    {
     "name": "stdout",
     "output_type": "stream",
     "text": [
      "incorrect: prediction: 160\tactual: 200\n"
     ]
    },
    {
     "name": "stderr",
     "output_type": "stream",
     "text": [
      "Evaluating:  94%|█████████▍| 177/188 [3:29:25<13:01, 71.00s/it]"
     ]
    },
    {
     "name": "stdout",
     "output_type": "stream",
     "text": [
      "Marker '####' not found in response.\n",
      "incorrect: prediction: None\tactual: 9\n"
     ]
    },
    {
     "name": "stderr",
     "output_type": "stream",
     "text": [
      "Evaluating:  95%|█████████▍| 178/188 [3:30:36<11:49, 70.98s/it]"
     ]
    },
    {
     "name": "stdout",
     "output_type": "stream",
     "text": [
      "incorrect: prediction: 4\tactual: 6\n"
     ]
    },
    {
     "name": "stderr",
     "output_type": "stream",
     "text": [
      "Evaluating:  97%|█████████▋| 182/188 [3:35:20<07:06, 71.01s/it]"
     ]
    },
    {
     "name": "stdout",
     "output_type": "stream",
     "text": [
      "incorrect: prediction: 30\tactual: 18\n"
     ]
    },
    {
     "name": "stderr",
     "output_type": "stream",
     "text": [
      "Evaluating:  98%|█████████▊| 184/188 [3:37:42<04:43, 70.97s/it]"
     ]
    },
    {
     "name": "stdout",
     "output_type": "stream",
     "text": [
      "incorrect: prediction: 19\tactual: 17\n"
     ]
    },
    {
     "name": "stderr",
     "output_type": "stream",
     "text": [
      "Evaluating: 100%|██████████| 188/188 [3:41:51<00:00, 70.80s/it]"
     ]
    },
    {
     "name": "stdout",
     "output_type": "stream",
     "text": [
      "incorrect: prediction: 6\tactual: 3\n",
      "Total Accuracy: 0.812\n",
      "Final Accuracy: 0.812\n"
     ]
    },
    {
     "name": "stderr",
     "output_type": "stream",
     "text": [
      "\n"
     ]
    }
   ],
   "source": [
    "# Run the evaluation\n",
    "accuracy = evaluate_model(test_data, train_data, N_SHOT, generator)\n",
    "print(f\"Final Accuracy: {accuracy:.3f}\")"
   ]
  }
 ],
 "metadata": {},
 "nbformat": 4,
 "nbformat_minor": 5
}
